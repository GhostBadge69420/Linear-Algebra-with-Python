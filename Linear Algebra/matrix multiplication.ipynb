{
 "cells": [
  {
   "cell_type": "code",
   "execution_count": 1,
   "metadata": {},
   "outputs": [],
   "source": [
    "import sympy as sym\n",
    "import numpy as np\n",
    "sym.init_printing()\n",
    "from IPython.display import display,Math\n",
    "from sympy.abc import x,y\n",
    "import math\n",
    "from math import gcd\n",
    "x,y = sym.symbols('x,y')\n",
    "import matplotlib.pyplot as plt\n",
    "import sympy.plotting.plot as symplot\n",
    "x,a = sym.symbols('x,a')\n",
    "from matplotlib.patches import Polygon\n",
    "from matplotlib import pyplot as plt\n",
    "import cmath as cm\n",
    "import scipy as sp\n",
    "from scipy.signal import find_peaks\n",
    "import seaborn as sns\n",
    "from plotly.subplots import make_subplots\n",
    "from plotly import graph_objects as go\n",
    "from mpl_toolkits.mplot3d import Axes3D"
   ]
  },
  {
   "cell_type": "code",
   "execution_count": 2,
   "metadata": {},
   "outputs": [
    {
     "data": {
      "text/plain": [
       "array([[-1.66251992e+00,  3.37869966e+00,  5.05717884e+00,\n",
       "         2.05558933e+00,  5.71123244e+00, -1.22669708e+00,\n",
       "         1.14808107e-01,  3.38391878e-01, -9.78052924e-01,\n",
       "        -4.42510362e-01],\n",
       "       [ 6.68942393e+00, -8.00291868e+00, -1.37929594e+00,\n",
       "        -2.88802862e+00,  2.33161411e+00,  3.81058375e-01,\n",
       "         3.09288786e+00,  7.60861094e-01, -9.24629235e-01,\n",
       "        -1.10177797e+00],\n",
       "       [-1.98446106e+00, -5.34829103e+00,  1.18231911e-02,\n",
       "         1.53368502e+00,  2.77683599e+00,  2.12665046e+00,\n",
       "        -1.96066512e+00,  1.10614584e+00,  4.37963300e+00,\n",
       "        -7.54675819e+00],\n",
       "       [ 2.99572218e+00, -1.21275742e+01, -8.54809654e+00,\n",
       "        -1.86145671e+00, -1.63883588e-01,  1.96073836e+00,\n",
       "         3.17545029e+00,  3.49167386e+00, -9.61531848e-01,\n",
       "        -4.77011069e-01],\n",
       "       [ 4.51968234e+00, -8.15874148e-01, -1.07740321e+00,\n",
       "         1.33784728e+00,  3.24869302e+00, -1.18588924e+00,\n",
       "         2.38911415e+00,  3.84082122e+00,  1.52775832e+00,\n",
       "         7.63821132e-02],\n",
       "       [-7.05503889e+00,  6.91629166e+00,  1.10728744e-01,\n",
       "        -1.32565313e+00, -1.89681703e+00, -2.28425486e+00,\n",
       "        -2.78982394e+00, -2.79192295e-01, -1.12602931e-01,\n",
       "        -3.72610017e+00],\n",
       "       [ 6.93991626e+00, -1.43156846e+00,  1.08690602e+00,\n",
       "         3.06385365e+00, -1.12026073e+00,  4.34079801e+00,\n",
       "        -1.27799263e+00, -1.59670235e+00, -7.46781449e-01,\n",
       "         3.24829090e+00],\n",
       "       [-6.13327572e+00,  4.55518759e+00, -1.50590222e+00,\n",
       "        -3.32117429e+00,  6.28532145e-02,  3.71539476e+00,\n",
       "        -4.17796946e+00, -1.05148658e+00,  4.54163449e+00,\n",
       "        -2.31215610e+00],\n",
       "       [-4.92693784e+00, -5.00976503e-01,  3.23547985e+00,\n",
       "        -1.72934711e+00,  3.58657154e+00,  9.22280019e+00,\n",
       "        -9.30790389e+00, -2.68799822e+00,  7.89541131e+00,\n",
       "        -8.22177578e+00],\n",
       "       [ 5.01968086e+00, -3.62942734e+00,  2.96847415e+00,\n",
       "        -1.89901028e+00,  2.08348195e+00, -3.25856408e+00,\n",
       "         5.32356735e+00, -3.79101761e+00,  1.02257813e+00,\n",
       "        -2.79355633e+00]])"
      ]
     },
     "execution_count": 2,
     "metadata": {},
     "output_type": "execute_result"
    }
   ],
   "source": [
    "A = np.random.randn(14,10)\n",
    "B = np.random.randn(14,10)\n",
    "C = np.random.randn(10,14)\n",
    "\n",
    "# 10x14 14x10\n",
    "\n",
    "C@B"
   ]
  },
  {
   "cell_type": "code",
   "execution_count": 3,
   "metadata": {},
   "outputs": [
    {
     "data": {
      "image/png": "[encoded data removed]",
      "text/latex": [
       "$\\displaystyle \\left( 10, \\  10\\right)$"
      ],
      "text/plain": [
       "(10, 10)"
      ]
     },
     "execution_count": 3,
     "metadata": {},
     "output_type": "execute_result"
    }
   ],
   "source": [
    "A = np.random.randn(14,10)\n",
    "B = np.random.randn(14,10)\n",
    "C = np.random.randn(10,14)\n",
    "\n",
    "# 10x14 14x10\n",
    "\n",
    "np.shape(C@B)"
   ]
  },
  {
   "cell_type": "code",
   "execution_count": 4,
   "metadata": {},
   "outputs": [
    {
     "data": {
      "image/png": "[encoded data removed]",
      "text/latex": [
       "$\\displaystyle \\left( 14, \\  14\\right)$"
      ],
      "text/plain": [
       "(14, 14)"
      ]
     },
     "execution_count": 4,
     "metadata": {},
     "output_type": "execute_result"
    }
   ],
   "source": [
    "A = np.random.randn(14,10)\n",
    "B = np.random.randn(14,10)\n",
    "C = np.random.randn(10,14)\n",
    "\n",
    "# 10x14 14x10\n",
    "\n",
    "np.shape(B@C)"
   ]
  },
  {
   "attachments": {},
   "cell_type": "markdown",
   "metadata": {},
   "source": [
    "# Exercise\n",
    "\n",
    "Write a function that takes two matrices as input,cehcks whether multplication is valid,and returns their product or an error message.\n",
    "\n",
    "#Note\n",
    "\n",
    "implement matrix multiplication via dot products of rows aand columns;don't use the @ operator!"
   ]
  },
  {
   "cell_type": "code",
   "execution_count": 2,
   "metadata": {},
   "outputs": [],
   "source": [
    "def matrixMultiplication(A,B):\n",
    "\n",
    "    #get matrix sizes\n",
    "    szA = np.shape(A)\n",
    "    szB = np.shape(B)\n",
    "\n",
    "    # check sizes and give error if multiplication is not valid\n",
    "    if szA[1]!=szB[0]:\n",
    "        raise ValueError('\"Inner\" dimension don\\'t match')\n",
    "    \n",
    "    #initialize\n",
    "    C = np.zeros((szA[0],szB[1]))\n",
    "\n",
    "    #compute!\n",
    "    for i in range(szA[0]):\n",
    "        for j in range(szB[1]):\n",
    "            C[i,j] = np.dot( A[i,:],B[:,j])\n",
    "        \n",
    "    return C"
   ]
  },
  {
   "cell_type": "code",
   "execution_count": 9,
   "metadata": {},
   "outputs": [
    {
     "data": {
      "text/plain": [
       "array([[ 1.37685167, -1.10978472, -2.59790722,  0.59813389],\n",
       "       [ 3.27235649, -1.47598864, -4.81642505, -0.85983048],\n",
       "       [ 1.71868747,  1.00078418, -1.00048534,  2.13073981],\n",
       "       [-0.50369019,  0.8247648 ,  1.43123399,  0.24934802]])"
      ]
     },
     "execution_count": 9,
     "metadata": {},
     "output_type": "execute_result"
    }
   ],
   "source": [
    "A = np.random.randn(4,6)\n",
    "B = np.random.randn(6,4)\n",
    "\n",
    "C = matrixMultiplication(A,B)\n",
    "C"
   ]
  },
  {
   "cell_type": "code",
   "execution_count": 4,
   "metadata": {},
   "outputs": [
    {
     "name": "stdout",
     "output_type": "stream",
     "text": [
      "[[-0.  0.  0.  0.]\n",
      " [ 0. -0.  0.  0.]\n",
      " [ 0.  0.  0.  0.]\n",
      " [-0. -0. -0.  0.]]\n"
     ]
    }
   ],
   "source": [
    "A = np.random.randn(4,6)\n",
    "B = np.random.randn(6,4)\n",
    "\n",
    "C1 = matrixMultiplication(A,B)\n",
    "C2 = A@B\n",
    "\n",
    "print(np.round(C1-C2,3))"
   ]
  },
  {
   "cell_type": "code",
   "execution_count": 5,
   "metadata": {},
   "outputs": [
    {
     "name": "stdout",
     "output_type": "stream",
     "text": [
      "[[ 2.73617972  0.57823892  0.74281331 -4.76617852]\n",
      " [-2.62006015 -1.95773413 -1.07839585  0.94196686]\n",
      " [-0.62658397 -3.95955271  1.47428599 -0.59177524]\n",
      " [-0.62878038 -2.39005831 -1.44496307 -0.0309083 ]]\n",
      "[[ 0.  0.  0.  0.]\n",
      " [-0.  0.  0.  0.]\n",
      " [ 0.  0. -0. -0.]\n",
      " [ 0. -0.  0. -0.]]\n"
     ]
    }
   ],
   "source": [
    "A = np.random.randn(4,6)\n",
    "B = np.random.randn(6,4)\n",
    "\n",
    "C1 = matrixMultiplication(A,B)\n",
    "C2 = A@B\n",
    "\n",
    "print(C1)\n",
    "print(np.round(C1-C2,3))"
   ]
  },
  {
   "cell_type": "code",
   "execution_count": null,
   "metadata": {},
   "outputs": [],
   "source": []
  }
 ],
 "metadata": {
  "kernelspec": {
   "display_name": "base",
   "language": "python",
   "name": "python3"
  },
  "language_info": {
   "codemirror_mode": {
    "name": "ipython",
    "version": 3
   },
   "file_extension": ".py",
   "mimetype": "text/x-python",
   "name": "python",
   "nbconvert_exporter": "python",
   "pygments_lexer": "ipython3",
   "version": "3.10.9"
  },
  "orig_nbformat": 4
 },
 "nbformat": 4,
 "nbformat_minor": 2
}
