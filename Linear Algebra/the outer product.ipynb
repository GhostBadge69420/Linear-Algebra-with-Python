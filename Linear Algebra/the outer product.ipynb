{
 "cells": [
  {
   "cell_type": "code",
   "execution_count": 1,
   "metadata": {},
   "outputs": [],
   "source": [
    "import sympy as sym\n",
    "import numpy as np\n",
    "sym.init_printing()\n",
    "from IPython.display import display,Math\n",
    "from sympy.abc import x,y\n",
    "import math\n",
    "from math import gcd\n",
    "x,y = sym.symbols('x,y')\n",
    "import matplotlib.pyplot as plt\n",
    "import sympy.plotting.plot as symplot\n",
    "x,a = sym.symbols('x,a')\n",
    "from matplotlib.patches import Polygon\n",
    "from matplotlib import pyplot as plt\n",
    "import cmath as cm\n",
    "import scipy as sp\n",
    "from scipy.signal import find_peaks\n",
    "import seaborn as sns\n",
    "from plotly.subplots import make_subplots\n",
    "from plotly import graph_objects as go\n",
    "from mpl_toolkits.mplot3d import Axes3D"
   ]
  },
  {
   "cell_type": "code",
   "execution_count": 2,
   "metadata": {},
   "outputs": [
    {
     "data": {
      "text/plain": [
       "array([[-0.10006868,  0.03693141, -0.11573244, ..., -0.13852589,\n",
       "        -0.26464307, -0.14347785],\n",
       "       [-0.11618457,  0.04287915, -0.13437096, ..., -0.16083526,\n",
       "        -0.30726341, -0.16658472],\n",
       "       [-0.12352415,  0.0455879 , -0.1428594 , ..., -0.17099549,\n",
       "        -0.32667376, -0.17710816],\n",
       "       ...,\n",
       "       [-0.18158633,  0.06701637, -0.21001007, ..., -0.25137145,\n",
       "        -0.48022586, -0.26035736],\n",
       "       [ 0.42724327, -0.15767867,  0.49411973, ...,  0.59143637,\n",
       "         1.12989377,  0.61257877],\n",
       "       [ 0.02167892, -0.00800083,  0.02507232, ...,  0.0300103 ,\n",
       "         0.05733238,  0.0310831 ]])"
      ]
     },
     "execution_count": 2,
     "metadata": {},
     "output_type": "execute_result"
    }
   ],
   "source": [
    "v1 = np.random.randn(50)\n",
    "v2 = np.random.randn(80)\n",
    "\n",
    "np.outer(v1,v2)"
   ]
  },
  {
   "cell_type": "code",
   "execution_count": 3,
   "metadata": {},
   "outputs": [
    {
     "data": {
      "image/png": "[encoded data removed]",
      "text/plain": [
       "<Figure size 640x480 with 1 Axes>"
      ]
     },
     "metadata": {},
     "output_type": "display_data"
    }
   ],
   "source": [
    "v1 = np.random.randn(50)\n",
    "v2 = np.random.randn(80)\n",
    "\n",
    "op = np.outer(v1,v2)\n",
    "\n",
    "plt.imshow(op)\n",
    "plt.show()"
   ]
  },
  {
   "attachments": {},
   "cell_type": "markdown",
   "metadata": {},
   "source": [
    "# Exercise\n",
    "\n",
    "### Test whether the outer product is matrix commutative and scalar-multiplication-commutative\n",
    "\n",
    "a * b = b * a\n",
    "\n",
    "Matrix commutative\n",
    "    \n",
    "np.outer(v,w) == np.outer(w,v)\n",
    "\n",
    "Scalar-multiplication-commutative\n",
    "\n",
    "cvw^t = vcw^t = vw^t c"
   ]
  },
  {
   "cell_type": "code",
   "execution_count": 4,
   "metadata": {},
   "outputs": [
    {
     "data": {
      "text/plain": [
       "array([1, 2, 3, 4, 5, 6, 7, 8, 9])"
      ]
     },
     "execution_count": 4,
     "metadata": {},
     "output_type": "execute_result"
    }
   ],
   "source": [
    "v = np.arange(1,10)\n",
    "v"
   ]
  },
  {
   "cell_type": "code",
   "execution_count": 7,
   "metadata": {},
   "outputs": [
    {
     "name": "stdout",
     "output_type": "stream",
     "text": [
      "[[ 1  2  3  4  5]\n",
      " [ 2  4  6  8 10]\n",
      " [ 3  6  9 12 15]\n",
      " [ 4  8 12 16 20]\n",
      " [ 5 10 15 20 25]\n",
      " [ 6 12 18 24 30]\n",
      " [ 7 14 21 28 35]\n",
      " [ 8 16 24 32 40]\n",
      " [ 9 18 27 36 45]\n",
      " [10 20 30 40 50]]\n",
      "[[ 1  2  3  4  5  6  7  8  9 10]\n",
      " [ 2  4  6  8 10 12 14 16 18 20]\n",
      " [ 3  6  9 12 15 18 21 24 27 30]\n",
      " [ 4  8 12 16 20 24 28 32 36 40]\n",
      " [ 5 10 15 20 25 30 35 40 45 50]]\n"
     ]
    }
   ],
   "source": [
    "v = np.arange(1,11)\n",
    "w = np.arange(1,6)\n",
    "\n",
    "print(np.outer(v,w))\n",
    "print(np.outer(w,v))"
   ]
  },
  {
   "cell_type": "code",
   "execution_count": 8,
   "metadata": {},
   "outputs": [
    {
     "name": "stdout",
     "output_type": "stream",
     "text": [
      "[[0 0 0 0 0]\n",
      " [0 0 0 0 0]\n",
      " [0 0 0 0 0]\n",
      " [0 0 0 0 0]\n",
      " [0 0 0 0 0]\n",
      " [0 0 0 0 0]\n",
      " [0 0 0 0 0]\n",
      " [0 0 0 0 0]\n",
      " [0 0 0 0 0]\n",
      " [0 0 0 0 0]]\n"
     ]
    }
   ],
   "source": [
    "s = 4\n",
    "\n",
    "res1 = s*np.outer(v,w)\n",
    "res2 = np.outer(s*v,w)\n",
    "res3 = np.outer(v,s*w)\n",
    "res4 = np.outer(v,w)*s\n",
    "\n",
    "print(res1-res2)"
   ]
  },
  {
   "cell_type": "code",
   "execution_count": 9,
   "metadata": {},
   "outputs": [
    {
     "name": "stdout",
     "output_type": "stream",
     "text": [
      "[[0 0 0 0 0]\n",
      " [0 0 0 0 0]\n",
      " [0 0 0 0 0]\n",
      " [0 0 0 0 0]\n",
      " [0 0 0 0 0]\n",
      " [0 0 0 0 0]\n",
      " [0 0 0 0 0]\n",
      " [0 0 0 0 0]\n",
      " [0 0 0 0 0]\n",
      " [0 0 0 0 0]]\n"
     ]
    }
   ],
   "source": [
    "s = 4\n",
    "\n",
    "res1 = s*np.outer(v,w)\n",
    "res2 = np.outer(s*v,w)\n",
    "res3 = np.outer(v,s*w)\n",
    "res4 = np.outer(v,w)*s\n",
    "\n",
    "print(res1-res3)"
   ]
  },
  {
   "cell_type": "code",
   "execution_count": 10,
   "metadata": {},
   "outputs": [
    {
     "name": "stdout",
     "output_type": "stream",
     "text": [
      "[[0 0 0 0 0]\n",
      " [0 0 0 0 0]\n",
      " [0 0 0 0 0]\n",
      " [0 0 0 0 0]\n",
      " [0 0 0 0 0]\n",
      " [0 0 0 0 0]\n",
      " [0 0 0 0 0]\n",
      " [0 0 0 0 0]\n",
      " [0 0 0 0 0]\n",
      " [0 0 0 0 0]]\n"
     ]
    }
   ],
   "source": [
    "s = 4\n",
    "\n",
    "res1 = s*np.outer(v,w)\n",
    "res2 = np.outer(s*v,w)\n",
    "res3 = np.outer(v,s*w)\n",
    "res4 = np.outer(v,w)*s\n",
    "\n",
    "print(res1-res4)"
   ]
  },
  {
   "cell_type": "code",
   "execution_count": 11,
   "metadata": {},
   "outputs": [
    {
     "name": "stdout",
     "output_type": "stream",
     "text": [
      "[[0 0 0 0 0]\n",
      " [0 0 0 0 0]\n",
      " [0 0 0 0 0]\n",
      " [0 0 0 0 0]\n",
      " [0 0 0 0 0]\n",
      " [0 0 0 0 0]\n",
      " [0 0 0 0 0]\n",
      " [0 0 0 0 0]\n",
      " [0 0 0 0 0]\n",
      " [0 0 0 0 0]]\n"
     ]
    }
   ],
   "source": [
    "s = 4\n",
    "\n",
    "res1 = s*np.outer(v,w)\n",
    "res2 = np.outer(s*v,w)\n",
    "res3 = np.outer(v,s*w)\n",
    "res4 = np.outer(v,w)*s\n",
    "\n",
    "print(res2-res3)"
   ]
  },
  {
   "cell_type": "code",
   "execution_count": 13,
   "metadata": {},
   "outputs": [
    {
     "name": "stdout",
     "output_type": "stream",
     "text": [
      "[[0 0 0 0 0]\n",
      " [0 0 0 0 0]\n",
      " [0 0 0 0 0]\n",
      " [0 0 0 0 0]\n",
      " [0 0 0 0 0]\n",
      " [0 0 0 0 0]\n",
      " [0 0 0 0 0]\n",
      " [0 0 0 0 0]\n",
      " [0 0 0 0 0]\n",
      " [0 0 0 0 0]]\n"
     ]
    }
   ],
   "source": [
    "s = 4\n",
    "\n",
    "res1 = s*np.outer(v,w)\n",
    "res2 = np.outer(s*v,w)\n",
    "res3 = np.outer(v,s*w)\n",
    "res4 = np.outer(v,w)*s\n",
    "\n",
    "print(res2-res4)"
   ]
  },
  {
   "cell_type": "code",
   "execution_count": 14,
   "metadata": {},
   "outputs": [
    {
     "name": "stdout",
     "output_type": "stream",
     "text": [
      "[[0 0 0 0 0]\n",
      " [0 0 0 0 0]\n",
      " [0 0 0 0 0]\n",
      " [0 0 0 0 0]\n",
      " [0 0 0 0 0]\n",
      " [0 0 0 0 0]\n",
      " [0 0 0 0 0]\n",
      " [0 0 0 0 0]\n",
      " [0 0 0 0 0]\n",
      " [0 0 0 0 0]]\n"
     ]
    }
   ],
   "source": [
    "s = 4\n",
    "\n",
    "res1 = s*np.outer(v,w)\n",
    "res2 = np.outer(s*v,w)\n",
    "res3 = np.outer(v,s*w)\n",
    "res4 = np.outer(v,w)*s\n",
    "\n",
    "print(res3-res4)"
   ]
  },
  {
   "cell_type": "code",
   "execution_count": null,
   "metadata": {},
   "outputs": [],
   "source": []
  }
 ],
 "metadata": {
  "kernelspec": {
   "display_name": "base",
   "language": "python",
   "name": "python3"
  },
  "language_info": {
   "codemirror_mode": {
    "name": "ipython",
    "version": 3
   },
   "file_extension": ".py",
   "mimetype": "text/x-python",
   "name": "python",
   "nbconvert_exporter": "python",
   "pygments_lexer": "ipython3",
   "version": "3.10.9"
  },
  "orig_nbformat": 4
 },
 "nbformat": 4,
 "nbformat_minor": 2
}
