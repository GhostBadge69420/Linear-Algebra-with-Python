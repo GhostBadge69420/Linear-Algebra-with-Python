{
 "cells": [
  {
   "cell_type": "code",
   "execution_count": 6,
   "metadata": {},
   "outputs": [],
   "source": [
    "import sympy as sym\n",
    "import numpy as np\n",
    "sym.init_printing()\n",
    "from IPython.display import display,Math\n",
    "from sympy.abc import x,y\n",
    "import math\n",
    "from math import gcd\n",
    "x,y = sym.symbols('x,y')\n",
    "import matplotlib.pyplot as plt\n",
    "import sympy.plotting.plot as symplot\n",
    "x,a = sym.symbols('x,a')\n",
    "from matplotlib.patches import Polygon\n",
    "from matplotlib import pyplot as plt\n",
    "import cmath as cm\n",
    "import scipy as sp\n",
    "from scipy.signal import find_peaks\n",
    "import seaborn as sns\n",
    "from plotly.subplots import make_subplots\n",
    "from plotly import graph_objects as go\n",
    "from mpl_toolkits.mplot3d import Axes3D"
   ]
  },
  {
   "cell_type": "code",
   "execution_count": 7,
   "metadata": {},
   "outputs": [
    {
     "data": {
      "text/plain": [
       "array([10, 13, 16, 19])"
      ]
     },
     "execution_count": 7,
     "metadata": {},
     "output_type": "execute_result"
    }
   ],
   "source": [
    "v = np.arange(10,20,3)\n",
    "v"
   ]
  },
  {
   "cell_type": "code",
   "execution_count": 10,
   "metadata": {},
   "outputs": [
    {
     "name": "stdout",
     "output_type": "stream",
     "text": [
      "[10 13 16 19]\n",
      "[ 5  8 11 14]\n"
     ]
    }
   ],
   "source": [
    "v = np.arange(10,20,3)\n",
    "w = np.arange(5,15,3)\n",
    "\n",
    "print(v)\n",
    "print(w)\n",
    "\n",
    "dp1 = 0\n",
    "for i in range(0,len(v)):\n",
    "    dp1 = dp1 + v[i] * w[i]"
   ]
  },
  {
   "cell_type": "code",
   "execution_count": 13,
   "metadata": {},
   "outputs": [
    {
     "name": "stdout",
     "output_type": "stream",
     "text": [
      "596 596 596\n"
     ]
    }
   ],
   "source": [
    "v = np.arange(10,20,3)\n",
    "w = np.arange(5,15,3)\n",
    "\n",
    "dp1 = 0\n",
    "for i in range(0,len(v)):\n",
    "    dp1 = dp1 + v[i] * w[i]\n",
    "\n",
    "dp2 = np.sum(np.multiply(v,w))\n",
    "dp3 = np.dot(v,w)\n",
    "\n",
    "print(dp1,dp2,dp3)"
   ]
  },
  {
   "attachments": {},
   "cell_type": "markdown",
   "metadata": {},
   "source": [
    "# Exericse \n",
    "\n",
    "write a function that:\n",
    "\n",
    "* Takes two vectors;\n",
    "\n",
    "* Test whether the dot product is valid between them;\n",
    "\n",
    "* Returns the dot product or gives an error message."
   ]
  },
  {
   "cell_type": "code",
   "execution_count": 14,
   "metadata": {},
   "outputs": [],
   "source": [
    "def myDotProduct(v,w):\n",
    "\n",
    "    #test whether the dot is defined\n",
    "    if len(v)!=len(w):\n",
    "        raise ValueError('Vector must have the same length!!')\n",
    "    \n",
    "    # compute and display the product\n",
    "    display(Math('v^Tw=%g'%np.dot(v,w)))"
   ]
  },
  {
   "cell_type": "code",
   "execution_count": 15,
   "metadata": {},
   "outputs": [
    {
     "name": "stdout",
     "output_type": "stream",
     "text": [
      "(1, 10)\n"
     ]
    }
   ],
   "source": [
    "v1 = np.random.randn(1,10)\n",
    "v2 = np.random.randn(1,10)\n",
    "\n",
    "print(np.shape(v1))"
   ]
  },
  {
   "cell_type": "code",
   "execution_count": 16,
   "metadata": {},
   "outputs": [
    {
     "name": "stdout",
     "output_type": "stream",
     "text": [
      "[[-1.07835257 -0.74840259  0.12093833 -0.23747715 -1.4374963   1.4403674\n",
      "  -1.99648235 -0.18257428  0.13498843 -0.27822948]]\n"
     ]
    }
   ],
   "source": [
    "v1 = np.random.randn(1,10)\n",
    "v2 = np.random.randn(1,10)\n",
    "\n",
    "print((v1))"
   ]
  },
  {
   "cell_type": "code",
   "execution_count": 20,
   "metadata": {},
   "outputs": [
    {
     "name": "stdout",
     "output_type": "stream",
     "text": [
      "(5, 10)\n"
     ]
    }
   ],
   "source": [
    "v1 = np.random.randn(5,10)\n",
    "v2 = np.random.randn(1,10)\n",
    "\n",
    "v1 = np.squeeze(v1)\n",
    "\n",
    "print(np.shape(v1))"
   ]
  },
  {
   "cell_type": "code",
   "execution_count": 21,
   "metadata": {},
   "outputs": [],
   "source": [
    "def myDotProduct(v,w):\n",
    "\n",
    "    v = np.squeeze(v)\n",
    "    w = np.squeeze(w)\n",
    "\n",
    "    #test whether the dot is defined\n",
    "    if len(v)!=len(w):\n",
    "        raise ValueError('Vector must have the same length!!')\n",
    "    \n",
    "    # compute and display the product\n",
    "    display(Math('v^Tw=%g'%np.dot(v,w)))"
   ]
  },
  {
   "cell_type": "code",
   "execution_count": 26,
   "metadata": {},
   "outputs": [
    {
     "name": "stdout",
     "output_type": "stream",
     "text": [
      "(1, 10)\n"
     ]
    },
    {
     "data": {
      "text/latex": [
       "$\\displaystyle v^Tw=-2.60375$"
      ],
      "text/plain": [
       "<IPython.core.display.Math object>"
      ]
     },
     "metadata": {},
     "output_type": "display_data"
    }
   ],
   "source": [
    "v1 = np.random.randn(1,10)\n",
    "v2 = np.random.randn(1,10)\n",
    "\n",
    "print(np.shape(v1))\n",
    "\n",
    "myDotProduct(v1,v2)"
   ]
  },
  {
   "cell_type": "code",
   "execution_count": null,
   "metadata": {},
   "outputs": [],
   "source": []
  }
 ],
 "metadata": {
  "kernelspec": {
   "display_name": "base",
   "language": "python",
   "name": "python3"
  },
  "language_info": {
   "codemirror_mode": {
    "name": "ipython",
    "version": 3
   },
   "file_extension": ".py",
   "mimetype": "text/x-python",
   "name": "python",
   "nbconvert_exporter": "python",
   "pygments_lexer": "ipython3",
   "version": "3.10.9"
  },
  "orig_nbformat": 4
 },
 "nbformat": 4,
 "nbformat_minor": 2
}
