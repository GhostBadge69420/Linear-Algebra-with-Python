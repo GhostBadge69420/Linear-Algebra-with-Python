{
 "cells": [
  {
   "cell_type": "code",
   "execution_count": 1,
   "metadata": {},
   "outputs": [],
   "source": [
    "import sympy as sym\n",
    "import numpy as np\n",
    "sym.init_printing()\n",
    "from IPython.display import display,Math\n",
    "from sympy.abc import x,y\n",
    "import math\n",
    "from math import gcd\n",
    "x,y = sym.symbols('x,y')\n",
    "import matplotlib.pyplot as plt\n",
    "import sympy.plotting.plot as symplot\n",
    "x,a = sym.symbols('x,a')\n",
    "from matplotlib.patches import Polygon\n",
    "from matplotlib import pyplot as plt\n",
    "import cmath as cm\n",
    "import scipy as sp\n",
    "from scipy.signal import find_peaks\n",
    "import seaborn as sns\n",
    "from plotly.subplots import make_subplots\n",
    "from plotly import graph_objects as go\n",
    "from mpl_toolkits.mplot3d import Axes3D\n",
    "from scipy.linalg import toeplitz\n",
    "from PIL import Image"
   ]
  },
  {
   "attachments": {},
   "cell_type": "markdown",
   "metadata": {},
   "source": [
    "#create a column vector \n",
    "\n",
    "Cv = np.array([(-2, 3)])\n",
    "\n",
    "display(Math(sym.latex(sym.sympify(cv))))"
   ]
  },
  {
   "cell_type": "code",
   "execution_count": 2,
   "metadata": {},
   "outputs": [
    {
     "data": {
      "text/latex": [
       "$\\displaystyle \\left[\\begin{matrix}-2\\\\3\\end{matrix}\\right]$"
      ],
      "text/plain": [
       "<IPython.core.display.Math object>"
      ]
     },
     "metadata": {},
     "output_type": "display_data"
    }
   ],
   "source": [
    "cv = np.array([[-2],[3]])\n",
    "\n",
    "display(Math(sym.latex(sym.sympify(cv))))"
   ]
  },
  {
   "attachments": {},
   "cell_type": "markdown",
   "metadata": {},
   "source": [
    "#visualize sacalr-vector multiplication\n",
    "\n",
    "v = np.array([-2,2])\n",
    "\n",
    "s = .7\n",
    "\n",
    "sv = np.array([s,s]).T@v\n",
    "\n",
    "plt.plot([0,v[0]],[0,v[1]],'ro-',linewidth=3,label='v')\n",
    "\n",
    "plt.plot([0,sv],[0,sv],'o-',linewidth=3,label='%sv')\n",
    "\n",
    "plt.axis = 'square'\n",
    "\n",
    "plt.legend()\n",
    "\n",
    "plt.axis([-3,3,-3,3])\n",
    "\n",
    "plt.grid()\n",
    "\n",
    "plt.show()"
   ]
  },
  {
   "cell_type": "code",
   "execution_count": 4,
   "metadata": {},
   "outputs": [
    {
     "name": "stdout",
     "output_type": "stream",
     "text": [
      "[-1.4  1.4]\n"
     ]
    },
    {
     "data": {
      "image/png": "[encoded data removed]",
      "text/plain": [
       "<Figure size 640x480 with 1 Axes>"
      ]
     },
     "metadata": {},
     "output_type": "display_data"
    }
   ],
   "source": [
    "v = np.array([-2,2])\n",
    "s = .7\n",
    "\n",
    "sv = s*v\n",
    "print(sv)\n",
    "plt.plot([0,v[0]],[0,v[1]],'ro-',linewidth=3,label='v')\n",
    "plt.plot([0,sv[0]],[0,sv[1]],'o-',linewidth=3,label='sv')\n",
    "\n",
    "plt.axis('square')\n",
    "plt.legend()\n",
    "plt.axis([-3,3,-3,3])\n",
    "plt.grid()\n",
    "\n",
    "plt.show()"
   ]
  },
  {
   "attachments": {},
   "cell_type": "markdown",
   "metadata": {},
   "source": [
    "#algorithm to compute the dot product\n",
    "\n",
    "v = np.random.randn(7)\n",
    "\n",
    "w = np.random.randn(8)\n",
    "\n",
    "dp1 = 0\n",
    "\n",
    "for i in range(0,len(v)):\n",
    "    \n",
    "     dp1 = dp1 + v[i]*w[1]\n",
    "\n",
    "dp2 = np.dot(v,w)\n",
    "\n",
    "print(str(dp1) + '\\t'  str(dp2))"
   ]
  },
  {
   "cell_type": "code",
   "execution_count": 6,
   "metadata": {},
   "outputs": [
    {
     "name": "stdout",
     "output_type": "stream",
     "text": [
      "-1.7246978032314624\t-1.7246978032314622\n"
     ]
    }
   ],
   "source": [
    "v = np.random.randn(7)\n",
    "w = np.random.randn(7)\n",
    "\n",
    "dp1 = 0\n",
    "for i in range(0,len(v)):\n",
    "    dp1 = dp1 + v[i]*w[i]\n",
    "\n",
    "dp2 = np.dot(v,w)\n",
    "\n",
    "print(str(dp1)+ '\\t' + str(dp2))"
   ]
  },
  {
   "cell_type": "code",
   "execution_count": 7,
   "metadata": {},
   "outputs": [
    {
     "name": "stdout",
     "output_type": "stream",
     "text": [
      "-2.4208291615055826\t-2.4208291615055826\n"
     ]
    }
   ],
   "source": [
    "v = np.random.randn(7)\n",
    "w = np.random.randn(7)\n",
    "\n",
    "dp1 = 0\n",
    "for i in range(0,len(v)):\n",
    "    dp1 +=v[i]*w[i]\n",
    "\n",
    "dp2 = np.dot(v,w)\n",
    "\n",
    "print(str(dp1)+ '\\t' + str(dp2))"
   ]
  },
  {
   "attachments": {},
   "cell_type": "markdown",
   "metadata": {},
   "source": [
    "#number of data points\n",
    "\n",
    "n = 10\n",
    "\n",
    "#data\n",
    "\n",
    "data1 = np.arange(0,n) + np.random.randn(n)\n",
    "\n",
    "data2 = np.arange(0,n) + np.random.randn(n)\n",
    "\n",
    "#compute correlation\n",
    "\n",
    "numer  = np.dot(data1,data2)\n",
    "\n",
    "denom =np.sqrt(np.dot(data1,data1)) * np.sqrt(np.dot(data2,data2))\n",
    "\n",
    "r1 = numer/denom\n",
    "\n",
    "#confirm with numpy function\n",
    "\n",
    "r2 = np.corrcoef(data1,data2)[1][0]\n",
    "\n",
    "print(r1)\n",
    "\n",
    "print(r2)"
   ]
  },
  {
   "cell_type": "code",
   "execution_count": 9,
   "metadata": {},
   "outputs": [
    {
     "name": "stdout",
     "output_type": "stream",
     "text": [
      "0.8927580902114732\n",
      "0.8927580902114731\n"
     ]
    }
   ],
   "source": [
    "n = 10\n",
    "\n",
    "data1 = np.arange(0,n) + np.random.randn(n)\n",
    "data2 = np.arange(0,n) + np.random.randn(n)\n",
    "\n",
    "data1 -= np.mean(data1)\n",
    "data2 -= np.mean(data2)\n",
    "\n",
    "numer = np.dot(data1,data2)\n",
    "denom = np.sqrt(np.dot(data1,data1)) * np.sqrt(np.dot(data2,data2))\n",
    "r1 = numer/denom\n",
    "\n",
    "r2 = np.corrcoef(data1,data2)[1][0]\n",
    "\n",
    "print(r1)\n",
    "print(r2)"
   ]
  },
  {
   "attachments": {},
   "cell_type": "markdown",
   "metadata": {},
   "source": [
    "#outer product computation\n",
    "\n",
    "o1 = np.random.randint(0,10,7)\n",
    "\n",
    "o2 = np.random.randint(0,10,4)\n",
    "\n",
    "outermat = np.zeros((len(o1),len(o2)))\n",
    "\n",
    "for i in range(len(o2)):\n",
    " \n",
    "     outermat[i,:] = o1*o2[i]\n",
    "\n",
    "\n",
    "print(outermat-np.outer(o1,o2))"
   ]
  },
  {
   "cell_type": "code",
   "execution_count": 10,
   "metadata": {},
   "outputs": [
    {
     "name": "stdout",
     "output_type": "stream",
     "text": [
      "[[  0.   0.   0.   0.]\n",
      " [  0.   0.   0.   0.]\n",
      " [  0.   0.   0.   0.]\n",
      " [  0.   0.   0.   0.]\n",
      " [-56. -28. -49. -63.]\n",
      " [-24. -12. -21. -27.]\n",
      " [ -8.  -4.  -7.  -9.]]\n"
     ]
    }
   ],
   "source": [
    "o1 = np.random.randint(0,10,7)\n",
    "o2 = np.random.randint(0,10,4)\n",
    "\n",
    "outermat = np.zeros((len(o1),len(o2)))\n",
    "\n",
    "for i in range(len(o2)):\n",
    "    outermat[i,:] = o1[i]*o2\n",
    "\n",
    "print(outermat-np.outer(o1,o2))"
   ]
  },
  {
   "attachments": {},
   "cell_type": "markdown",
   "metadata": {},
   "source": [
    "#matrix multiplication\n",
    "\n",
    "A = np.random.randn(5,5)\n",
    "\n",
    "I = np.eye(5)\n",
    "\n",
    "A*I"
   ]
  },
  {
   "cell_type": "code",
   "execution_count": 11,
   "metadata": {},
   "outputs": [
    {
     "data": {
      "text/plain": [
       "array([[-0.19260225,  0.18170739,  0.78414575, -0.71413853, -0.98217494],\n",
       "       [ 0.07330091,  0.63757534, -1.55526066, -0.12683127, -0.34337493],\n",
       "       [-0.98945037, -0.0271679 ,  1.14655843, -0.41383223,  0.3663437 ],\n",
       "       [ 0.30908123,  0.75388221, -1.12601794,  1.69506609,  0.02208639],\n",
       "       [-1.73916838, -1.30521263,  0.71204049,  0.36642656,  1.14575416]])"
      ]
     },
     "execution_count": 11,
     "metadata": {},
     "output_type": "execute_result"
    }
   ],
   "source": [
    "A = np.random.randn(5,5)\n",
    "I = np.eye(5)\n",
    "\n",
    "A@I"
   ]
  },
  {
   "attachments": {},
   "cell_type": "markdown",
   "metadata": {},
   "source": [
    "#matrix multiplication\n",
    "\n",
    "A = np.random.randn(8,5)\n",
    "\n",
    "I = np.eys(5)\n",
    "\n",
    "print(A)\n",
    "\n",
    "print(' ')\n",
    "\n",
    "print(A*I)"
   ]
  },
  {
   "cell_type": "code",
   "execution_count": 12,
   "metadata": {},
   "outputs": [
    {
     "name": "stdout",
     "output_type": "stream",
     "text": [
      "[[-0.64382111 -0.10404946 -0.3049475   0.70987744 -0.74306135]\n",
      " [ 0.78189722  0.47281503 -0.97491209  0.51796884 -0.82038238]\n",
      " [-0.09123469 -0.44869908 -1.61361788  0.76695838 -0.15109166]\n",
      " [-0.03846243 -0.51396072  0.40148155 -1.1048575  -1.14593575]\n",
      " [ 1.20867102 -1.85590258 -0.64866652  0.58268003 -0.10853729]\n",
      " [ 0.81567031  1.16121616 -1.08495766  0.3025738  -0.72961529]\n",
      " [-1.6057752  -0.99801902  0.22572951 -0.89905882  1.17362392]\n",
      " [-0.14614535 -0.85745124 -0.40476928 -1.12999073 -1.56260521]]\n",
      "\n",
      "[[-0.64382111 -0.10404946 -0.3049475   0.70987744 -0.74306135]\n",
      " [ 0.78189722  0.47281503 -0.97491209  0.51796884 -0.82038238]\n",
      " [-0.09123469 -0.44869908 -1.61361788  0.76695838 -0.15109166]\n",
      " [-0.03846243 -0.51396072  0.40148155 -1.1048575  -1.14593575]\n",
      " [ 1.20867102 -1.85590258 -0.64866652  0.58268003 -0.10853729]\n",
      " [ 0.81567031  1.16121616 -1.08495766  0.3025738  -0.72961529]\n",
      " [-1.6057752  -0.99801902  0.22572951 -0.89905882  1.17362392]\n",
      " [-0.14614535 -0.85745124 -0.40476928 -1.12999073 -1.56260521]]\n"
     ]
    }
   ],
   "source": [
    "A = np.random.randn(8,5)\n",
    "I = np.eye(5)\n",
    "\n",
    "print(A)\n",
    "print('')\n",
    "print(A@I)"
   ]
  },
  {
   "attachments": {},
   "cell_type": "markdown",
   "metadata": {},
   "source": [
    "#random matrices are invertible\n",
    "\n",
    "A = np.random.randint(-5,6,(5,5))\n",
    "\n",
    "Ainv = np.inv(A)\n",
    "\n",
    "np.round(A@Ainv,4)"
   ]
  },
  {
   "cell_type": "code",
   "execution_count": 15,
   "metadata": {},
   "outputs": [
    {
     "data": {
      "text/plain": [
       "array([[ 1., -0.,  0.,  0., -0.],\n",
       "       [-0.,  1., -0., -0., -0.],\n",
       "       [ 0.,  0.,  1., -0.,  0.],\n",
       "       [ 0.,  0., -0.,  1., -0.],\n",
       "       [-0., -0.,  0., -0.,  1.]])"
      ]
     },
     "execution_count": 15,
     "metadata": {},
     "output_type": "execute_result"
    }
   ],
   "source": [
    "A = np.random.randint(-5,6,(5,5))\n",
    "Ainv = np.linalg.inv(A)\n",
    "\n",
    "np.round(A@Ainv,4)"
   ]
  },
  {
   "attachments": {},
   "cell_type": "markdown",
   "metadata": {},
   "source": [
    "#plot the eignespectrum\n",
    "\n",
    "#the matrix\n",
    "\n",
    "M = np.random.randint(-5,5,(5,5))\n",
    "\n",
    "M = M@M.T\n",
    "\n",
    "#its eignedecompositions\n",
    "\n",
    "eignvecs,eignvals = np.linalg.eig(M)\n",
    "\n",
    "plt.plot(np.matrix.flatten(eignvals),'s-')\n",
    "\n",
    "plt.xlabel('Components')\n",
    "\n",
    "plt.ylabel('Eignevalues')\n",
    "\n",
    "plt.show()"
   ]
  },
  {
   "cell_type": "code",
   "execution_count": 18,
   "metadata": {},
   "outputs": [
    {
     "name": "stdout",
     "output_type": "stream",
     "text": [
      "(5, 5)\n"
     ]
    },
    {
     "data": {
      "image/png": "[encoded data removed]",
      "text/plain": [
       "<Figure size 640x480 with 1 Axes>"
      ]
     },
     "metadata": {},
     "output_type": "display_data"
    }
   ],
   "source": [
    "M = np.random.randint(-5,5,(5,5))\n",
    "M = M@M.T\n",
    "print(np.shape(M))\n",
    "\n",
    "eigvals,eigvecs = np.linalg.eig(M)\n",
    "\n",
    "plt.plot(np.matrix.flatten(eigvals),'s-')\n",
    "plt.xlabel('Components')\n",
    "plt.ylabel('Eigenvalues')\n",
    "\n",
    "plt.show()"
   ]
  },
  {
   "attachments": {},
   "cell_type": "markdown",
   "metadata": {},
   "source": [
    "#Reconstruct a matrix based on its SVD\n",
    "\n",
    "A = np.random.randint(-10,11,(10,20))\n",
    "\n",
    "U,s,V = np.linalg.svd(A)\n",
    "\n",
    "S = np.diag(s)\n",
    "\n",
    "Arecon = U@V@S\n",
    "\n",
    "fig,ax = plt.subplots(1,3)\n",
    "\n",
    "ax[0].imshow(A,bmin=-10,vmax=10)\n",
    "\n",
    "ax[0].set_title('A')\n",
    "\n",
    "ax[1].imshow(Arecon,vmin=-10,vmax=10)\n",
    "\n",
    "ax[1].set_title('Arecon')\n",
    "\n",
    "ax[2].imshow(A-Arecon,vmin=-10,vmax=10)\n",
    "\n",
    "ax[2].set_title('A-Arecon')\n",
    "\n",
    "plt.show()\n"
   ]
  },
  {
   "cell_type": "code",
   "execution_count": 20,
   "metadata": {},
   "outputs": [
    {
     "data": {
      "image/png": "[encoded data removed]",
      "text/plain": [
       "<Figure size 640x480 with 3 Axes>"
      ]
     },
     "metadata": {},
     "output_type": "display_data"
    }
   ],
   "source": [
    "A = np.random.randint(-10,11,(10,20))\n",
    "\n",
    "U,s,V = np.linalg.svd(A)\n",
    "\n",
    "S = np.zeros(np.shape(A))\n",
    "for i in range(len(s)):\n",
    "    S[i,i] = s[i]\n",
    "\n",
    "Arecon = U@S@V\n",
    "\n",
    "fig,ax = plt.subplots(1,3)\n",
    "\n",
    "ax[0].imshow(A,vmin=-10,vmax=10)\n",
    "ax[0].set_title('A')\n",
    "\n",
    "ax[1].imshow(Arecon,vmin=-10,vmax=10)\n",
    "ax[1].set_title('Arecon')\n",
    "\n",
    "ax[2].imshow(A-Arecon,vmin=-10,vmax=10)\n",
    "ax[2].set_title('A-Arecon')\n",
    "\n",
    "plt.show()"
   ]
  },
  {
   "cell_type": "code",
   "execution_count": null,
   "metadata": {},
   "outputs": [],
   "source": []
  }
 ],
 "metadata": {
  "kernelspec": {
   "display_name": "base",
   "language": "python",
   "name": "python3"
  },
  "language_info": {
   "codemirror_mode": {
    "name": "ipython",
    "version": 3
   },
   "file_extension": ".py",
   "mimetype": "text/x-python",
   "name": "python",
   "nbconvert_exporter": "python",
   "pygments_lexer": "ipython3",
   "version": "3.10.9"
  },
  "orig_nbformat": 4
 },
 "nbformat": 4,
 "nbformat_minor": 2
}
