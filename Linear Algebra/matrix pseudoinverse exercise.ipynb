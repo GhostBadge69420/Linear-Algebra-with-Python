{
 "cells": [
  {
   "cell_type": "code",
   "execution_count": 2,
   "metadata": {},
   "outputs": [],
   "source": [
    "import sympy as sym\n",
    "import numpy as np\n",
    "sym.init_printing()\n",
    "from IPython.display import display,Math\n",
    "from sympy.abc import x,y\n",
    "import math\n",
    "from math import gcd\n",
    "x,y = sym.symbols('x,y')\n",
    "import matplotlib.pyplot as plt\n",
    "import sympy.plotting.plot as symplot\n",
    "x,a = sym.symbols('x,a')\n",
    "from matplotlib.patches import Polygon\n",
    "from matplotlib import pyplot as plt\n",
    "import cmath as cm\n",
    "import scipy as sp\n",
    "from scipy.signal import find_peaks\n",
    "import seaborn as sns\n",
    "from plotly.subplots import make_subplots\n",
    "from plotly import graph_objects as go\n",
    "from mpl_toolkits.mplot3d import Axes3D\n",
    "from scipy.linalg import toeplitz"
   ]
  },
  {
   "attachments": {},
   "cell_type": "markdown",
   "metadata": {},
   "source": [
    "# Exercise \n",
    "\n",
    "## Compute the pesudoinverse and make images of A,A*, and AA* for:\n",
    "\n",
    "1. A 5x5 matrix with random integers between -5 and +5, where the first column equals the second column.\n",
    "\n",
    "2. A 5x7 matrix of Gaussian random numbers."
   ]
  },
  {
   "cell_type": "code",
   "execution_count": 2,
   "metadata": {},
   "outputs": [
    {
     "name": "stdout",
     "output_type": "stream",
     "text": [
      "[[-2  2  2 -5  4]\n",
      " [-4 -3 -1 -5  1]\n",
      " [ 5  1  5  4 -4]\n",
      " [ 4 -5  2  1  0]\n",
      " [ 2  0 -5 -3  2]]\n"
     ]
    }
   ],
   "source": [
    "m = 5\n",
    "A = np.random.randint(-m,m+1,(m,m))\n",
    "\n",
    "print(A)"
   ]
  },
  {
   "cell_type": "code",
   "execution_count": 3,
   "metadata": {},
   "outputs": [
    {
     "name": "stdout",
     "output_type": "stream",
     "text": [
      "[[ 5  5  3 -2 -2]\n",
      " [ 3  3 -2  0  5]\n",
      " [ 4  4 -5 -2  3]\n",
      " [-2 -2 -5  2  2]\n",
      " [ 0  0  1 -5 -1]]\n"
     ]
    }
   ],
   "source": [
    "m = 5\n",
    "A = np.random.randint(-m,m+1,(m,m))\n",
    "A[:,0] = A[:,1]\n",
    "\n",
    "print(A)"
   ]
  },
  {
   "cell_type": "code",
   "execution_count": 4,
   "metadata": {},
   "outputs": [
    {
     "name": "stdout",
     "output_type": "stream",
     "text": [
      "[[-4 -4 -1  0  1]\n",
      " [ 3  3 -5 -4 -3]\n",
      " [ 5  5  3  2  4]\n",
      " [ 4  4  1 -3  5]\n",
      " [ 5  5  0  3 -4]]\n",
      "[[-0.01391314  0.02408052  0.02948036  0.01804835  0.03050213]\n",
      " [-0.01391314  0.02408052  0.02948036  0.01804835  0.03050213]\n",
      " [-0.45161361 -0.23424133 -0.23933924  0.09519746 -0.05756482]\n",
      " [ 0.32205229  0.04694016  0.23064435 -0.13517996  0.10697735]\n",
      " [ 0.2604354   0.06347664  0.18837764  0.0126857  -0.02826387]]\n"
     ]
    }
   ],
   "source": [
    "m = 5\n",
    "A = np.random.randint(-m,m+1,(m,m))\n",
    "A[:,0] = A[:,1]\n",
    "\n",
    "\n",
    "print(A)\n",
    "\n",
    "Apinv = np.linalg.pinv(A)\n",
    "print(Apinv)"
   ]
  },
  {
   "cell_type": "code",
   "execution_count": 7,
   "metadata": {},
   "outputs": [
    {
     "name": "stdout",
     "output_type": "stream",
     "text": [
      "[[-5 -5  1  3 -2]\n",
      " [-1 -1  1 -5 -3]\n",
      " [ 4  4 -5  0 -5]\n",
      " [ 0  0 -5  2  3]\n",
      " [-1 -1 -2  3 -4]]\n",
      "[[-0.06018436 -0.0616204   0.03287943 -0.05486435 -0.00594008]\n",
      " [-0.06018436 -0.0616204   0.03287943 -0.05486435 -0.00594008]\n",
      " [-0.01713167 -0.08323533 -0.04355896 -0.17437758 -0.00534215]\n",
      " [ 0.02622151 -0.17054881  0.0058164  -0.05976462  0.06270689]\n",
      " [-0.03519141 -0.02819074 -0.06752232  0.08122248 -0.06594148]]\n"
     ]
    },
    {
     "data": {
      "image/png": "[encoded data removed]",
      "text/plain": [
       "<Figure size 640x480 with 3 Axes>"
      ]
     },
     "metadata": {},
     "output_type": "display_data"
    }
   ],
   "source": [
    "m = 5\n",
    "A = np.random.randint(-m,m+1,(m,m))\n",
    "A[:,0] = A[:,1]\n",
    "\n",
    "\n",
    "print(A)\n",
    "\n",
    "Apinv = np.linalg.pinv(A)\n",
    "print(Apinv)\n",
    "\n",
    "fig,ax = plt.subplots(1,3)\n",
    "\n",
    "ax[0].imshow(A)\n",
    "ax[0].set_title('A')\n",
    "\n",
    "ax[1].imshow(Apinv)\n",
    "ax[1].set_title('A$^*$')\n",
    "\n",
    "ax[2].imshow(A@Apinv)\n",
    "ax[2].set_title('AA$^*$')\n",
    "\n",
    "plt.show()"
   ]
  },
  {
   "cell_type": "code",
   "execution_count": 8,
   "metadata": {},
   "outputs": [
    {
     "name": "stdout",
     "output_type": "stream",
     "text": [
      "[[ 1.00000000e+00  2.49800181e-15  1.72084569e-15 -4.74967288e-15\n",
      "   9.99200722e-16]\n",
      " [-3.88578059e-16  7.14285714e-01  1.42857143e-01 -3.43475248e-16\n",
      "   4.28571429e-01]\n",
      " [ 1.49880108e-15  1.42857143e-01  9.28571429e-01  3.11903281e-15\n",
      "  -2.14285714e-01]\n",
      " [ 1.77635684e-15 -1.11022302e-15 -8.88178420e-16  1.00000000e+00\n",
      "  -6.66133815e-16]\n",
      " [-8.32667268e-16  4.28571429e-01 -2.14285714e-01 -1.34267597e-15\n",
      "   3.57142857e-01]]\n"
     ]
    },
    {
     "data": {
      "image/png": "[encoded data removed]",
      "text/plain": [
       "<Figure size 640x480 with 3 Axes>"
      ]
     },
     "metadata": {},
     "output_type": "display_data"
    }
   ],
   "source": [
    "m = 5\n",
    "A = np.random.randint(-m,m+1,(m,m))\n",
    "A[:,0] = A[:,1]\n",
    "\n",
    "Apinv = np.linalg.pinv(A)\n",
    "print(A@Apinv)\n",
    "\n",
    "fig,ax = plt.subplots(1,3)\n",
    "\n",
    "ax[0].imshow(A)\n",
    "ax[0].set_title('A')\n",
    "\n",
    "ax[1].imshow(Apinv)\n",
    "ax[1].set_title('A$^*$')\n",
    "\n",
    "ax[2].imshow(A@Apinv)\n",
    "ax[2].set_title('AA$^*$')\n",
    "\n",
    "plt.show()"
   ]
  },
  {
   "cell_type": "code",
   "execution_count": 9,
   "metadata": {},
   "outputs": [
    {
     "name": "stdout",
     "output_type": "stream",
     "text": [
      "[[ 1.   0.1  0.1 -0.1  0. ]\n",
      " [ 0.1  0.8 -0.2  0.3 -0.1]\n",
      " [ 0.1 -0.2  0.7  0.3 -0.1]\n",
      " [-0.1  0.3  0.3  0.5  0.2]\n",
      " [ 0.  -0.1 -0.1  0.2  0.9]]\n"
     ]
    },
    {
     "data": {
      "image/png": "[encoded data removed]",
      "text/plain": [
       "<Figure size 640x480 with 3 Axes>"
      ]
     },
     "metadata": {},
     "output_type": "display_data"
    }
   ],
   "source": [
    "m = 5\n",
    "A = np.random.randint(-m,m+1,(m,m))\n",
    "A[:,0] = A[:,1]\n",
    "\n",
    "Apinv = np.linalg.pinv(A)\n",
    "print(np.round(A@Apinv,1))\n",
    "\n",
    "fig,ax = plt.subplots(1,3)\n",
    "\n",
    "ax[0].imshow(A)\n",
    "ax[0].set_title('A')\n",
    "\n",
    "ax[1].imshow(Apinv)\n",
    "ax[1].set_title('A$^*$')\n",
    "\n",
    "ax[2].imshow(A@Apinv)\n",
    "ax[2].set_title('AA$^*$')\n",
    "\n",
    "plt.show()"
   ]
  },
  {
   "cell_type": "code",
   "execution_count": 11,
   "metadata": {},
   "outputs": [
    {
     "name": "stdout",
     "output_type": "stream",
     "text": [
      "[[ 0.81  0.32 -0.2   0.02 -0.1 ]\n",
      " [ 0.32  0.46  0.34 -0.04  0.16]\n",
      " [-0.2   0.34  0.78  0.03 -0.1 ]\n",
      " [ 0.02 -0.04  0.03  1.    0.01]\n",
      " [-0.1   0.16 -0.1   0.01  0.95]]\n"
     ]
    },
    {
     "data": {
      "image/png": "[encoded data removed]",
      "text/plain": [
       "<Figure size 640x480 with 3 Axes>"
      ]
     },
     "metadata": {},
     "output_type": "display_data"
    }
   ],
   "source": [
    "m = 5\n",
    "A = np.random.randint(-m,m+1,(m,m))\n",
    "A[:,0] = A[:,1]\n",
    "\n",
    "Apinv = np.linalg.pinv(A)\n",
    "print(np.round(A@Apinv,2))\n",
    "\n",
    "fig,ax = plt.subplots(1,3)\n",
    "\n",
    "ax[0].imshow(A)\n",
    "ax[0].set_title('A')\n",
    "\n",
    "ax[1].imshow(Apinv)\n",
    "ax[1].set_title('A$^*$')\n",
    "\n",
    "ax[2].imshow(A@Apinv)\n",
    "ax[2].set_title('AA$^*$')\n",
    "\n",
    "plt.show()"
   ]
  },
  {
   "cell_type": "code",
   "execution_count": 13,
   "metadata": {},
   "outputs": [
    {
     "name": "stdout",
     "output_type": "stream",
     "text": [
      "[[ 4  0  2 -4 -3  0  3]\n",
      " [ 0 -5  5  4  0  3  2]\n",
      " [ 3 -2  1 -3  3  3  0]\n",
      " [-4 -3  0  3  5 -1 -4]\n",
      " [ 2  5  3 -3 -5  5 -2]]\n",
      "[[ 1. -0.  0. -0.  0.]\n",
      " [ 0.  1. -0.  0.  0.]\n",
      " [-0.  0.  1. -0.  0.]\n",
      " [-0.  0. -0.  1. -0.]\n",
      " [ 0. -0. -0.  0.  1.]]\n"
     ]
    },
    {
     "data": {
      "image/png": "[encoded data removed]",
      "text/plain": [
       "<Figure size 640x480 with 3 Axes>"
      ]
     },
     "metadata": {},
     "output_type": "display_data"
    }
   ],
   "source": [
    "m = 5\n",
    "A = np.random.randint(-m,m+1,(m,m+2))\n",
    "print(A)\n",
    "\n",
    "Apinv = np.linalg.pinv(A)\n",
    "print(np.round(A@Apinv,2))\n",
    "\n",
    "fig,ax = plt.subplots(1,3)\n",
    "\n",
    "ax[0].imshow(A)\n",
    "ax[0].set_title('A')\n",
    "\n",
    "ax[1].imshow(Apinv)\n",
    "ax[1].set_title('A$^*$')\n",
    "\n",
    "ax[2].imshow(A@Apinv)\n",
    "ax[2].set_title('AA$^*$')\n",
    "\n",
    "for i in ax:\n",
    "    i.axis('off')\n",
    "\n",
    "plt.show()"
   ]
  },
  {
   "cell_type": "code",
   "execution_count": 3,
   "metadata": {},
   "outputs": [
    {
     "name": "stdout",
     "output_type": "stream",
     "text": [
      "[[ 0.18316554  0.75426251 -1.24404917  0.97519125 -0.50913175 -0.59463382\n",
      "  -1.6817897 ]\n",
      " [-0.50787083 -0.28536507 -0.39987131  0.6096164  -0.971139   -0.30697402\n",
      "   1.50867154]\n",
      " [ 0.94968044 -1.51589463 -1.67157846 -0.15043723 -0.83084029 -3.14673799\n",
      "   1.04242685]\n",
      " [ 0.46367718 -1.05980109 -0.65888927 -1.25626075  0.98078325  1.04063476\n",
      "  -0.36254929]\n",
      " [-0.50354276 -0.83120376  0.5422244  -0.28577741 -1.16935666 -1.49935367\n",
      "  -1.17829795]]\n",
      "[[ 1. -0.  0. -0. -0.]\n",
      " [ 0.  1. -0. -0.  0.]\n",
      " [ 0.  0.  1.  0. -0.]\n",
      " [ 0. -0.  0.  1.  0.]\n",
      " [-0. -0.  0.  0.  1.]]\n"
     ]
    },
    {
     "data": {
      "image/png": "[encoded data removed]",
      "text/plain": [
       "<Figure size 640x480 with 3 Axes>"
      ]
     },
     "metadata": {},
     "output_type": "display_data"
    }
   ],
   "source": [
    "m = 5\n",
    "A = np.random.randint(-m,m+1,(m,m+2))\n",
    "A = np.random.randn(m,m+2)\n",
    "\n",
    "print(A)\n",
    "\n",
    "Apinv = np.linalg.pinv(A)\n",
    "print(np.round(A@Apinv,2))\n",
    "\n",
    "fig,ax = plt.subplots(1,3)\n",
    "\n",
    "ax[0].imshow(A)\n",
    "ax[0].set_title('A')\n",
    "\n",
    "ax[1].imshow(Apinv)\n",
    "ax[1].set_title('A$^*$')\n",
    "\n",
    "ax[2].imshow(A@Apinv)\n",
    "ax[2].set_title('AA$^*$')\n",
    "\n",
    "for i in ax:\n",
    "    i.axis('off')\n",
    "\n",
    "plt.show()"
   ]
  },
  {
   "cell_type": "code",
   "execution_count": null,
   "metadata": {},
   "outputs": [],
   "source": []
  }
 ],
 "metadata": {
  "kernelspec": {
   "display_name": "base",
   "language": "python",
   "name": "python3"
  },
  "language_info": {
   "codemirror_mode": {
    "name": "ipython",
    "version": 3
   },
   "file_extension": ".py",
   "mimetype": "text/x-python",
   "name": "python",
   "nbconvert_exporter": "python",
   "pygments_lexer": "ipython3",
   "version": "3.10.9"
  },
  "orig_nbformat": 4
 },
 "nbformat": 4,
 "nbformat_minor": 2
}
